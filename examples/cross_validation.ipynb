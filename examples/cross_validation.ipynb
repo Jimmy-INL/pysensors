{
 "cells": [
  {
   "cell_type": "markdown",
   "metadata": {},
   "source": [
    "# Cross-validation\n",
    "This notebook shows how to use cross-validation techniques from [Scikit-learn](https://scikit-learn.org/stable/) to tune parameters."
   ]
  },
  {
   "cell_type": "code",
   "execution_count": 1,
   "metadata": {
    "ExecuteTime": {
     "end_time": "2020-07-17T19:45:34.995319Z",
     "start_time": "2020-07-17T19:45:33.104962Z"
    }
   },
   "outputs": [],
   "source": [
    "import matplotlib.pyplot as plt\n",
    "import numpy as np\n",
    "from sklearn import datasets\n",
    "\n",
    "import pysensors as ps"
   ]
  },
  {
   "cell_type": "markdown",
   "metadata": {},
   "source": [
    "## Setup"
   ]
  },
  {
   "cell_type": "markdown",
   "metadata": {},
   "source": [
    "First we'll load some training data. In this case, images of handwritten digits."
   ]
  },
  {
   "cell_type": "code",
   "execution_count": 2,
   "metadata": {
    "ExecuteTime": {
     "end_time": "2020-07-17T19:45:35.178507Z",
     "start_time": "2020-07-17T19:45:35.002379Z"
    }
   },
   "outputs": [
    {
     "name": "stdout",
     "output_type": "stream",
     "text": [
      "1083 64\n"
     ]
    }
   ],
   "source": [
    "digits = datasets.load_digits(n_class=6)\n",
    "X = digits.data\n",
    "y = digits.target\n",
    "\n",
    "n_samples, n_features = X.shape\n",
    "print(n_samples, n_features)"
   ]
  },
  {
   "cell_type": "code",
   "execution_count": 3,
   "metadata": {
    "ExecuteTime": {
     "end_time": "2020-07-17T19:45:35.680606Z",
     "start_time": "2020-07-17T19:45:35.184346Z"
    }
   },
   "outputs": [
    {
     "data": {
      "image/png": "[encoded data removed]",
      "text/plain": [
       "<Figure size 432x288 with 1 Axes>"
      ]
     },
     "metadata": {},
     "output_type": "display_data"
    }
   ],
   "source": [
    "# Plot some digits\n",
    "n_img_per_row = 10\n",
    "img = np.zeros((10 * n_img_per_row, 10 * n_img_per_row))\n",
    "for i in range(n_img_per_row):\n",
    "    ix = 10 * i + 1\n",
    "    for j in range(n_img_per_row):\n",
    "        iy = 10 * j + 1\n",
    "        img[ix:ix + 8, iy:iy + 8] = X[i * n_img_per_row + j].reshape((8, 8))\n",
    "\n",
    "plt.imshow(img, cmap=plt.cm.binary)\n",
    "plt.xticks([])\n",
    "plt.yticks([])\n",
    "plt.title('A selection from the 64-dimensional digits dataset')\n",
    "plt.show()"
   ]
  },
  {
   "cell_type": "markdown",
   "metadata": {},
   "source": [
    "## Grid search\n",
    "Here we specify a set of parameter values we'd like to test. The `GridSearchCV` object will try out every possible combination and tell us which gave the best performance."
   ]
  },
  {
   "cell_type": "code",
   "execution_count": 4,
   "metadata": {
    "ExecuteTime": {
     "end_time": "2020-07-17T19:45:45.031493Z",
     "start_time": "2020-07-17T19:45:35.685780Z"
    }
   },
   "outputs": [
    {
     "name": "stdout",
     "output_type": "stream",
     "text": [
      "Best parameters:\n",
      "basis:  Identity(n_basis_modes=40)\n",
      "basis__n_basis_modes:  40\n",
      "n_sensors:  20\n"
     ]
    }
   ],
   "source": [
    "from sklearn.model_selection import GridSearchCV\n",
    "\n",
    "model = ps.SensorSelector()\n",
    "\n",
    "param_grid = {\n",
    "    \"basis\": [ps.basis.Identity(), ps.basis.POD(), ps.basis.RandomProjection()],\n",
    "    \"basis__n_basis_modes\": [20, 30, 40],\n",
    "    \"n_sensors\": [5, 10, 15, 20]\n",
    "}\n",
    "\n",
    "search = GridSearchCV(model, param_grid)\n",
    "search.fit(X, quiet=True)\n",
    "print(\"Best parameters:\")\n",
    "for k, v in search.best_params_.items():\n",
    "    print(f\"{k}:  {v}\")"
   ]
  },
  {
   "cell_type": "markdown",
   "metadata": {},
   "source": [
    "## Randomized search\n",
    "\n",
    "Now suppose we have a fixed sensor budget. We'd like to determine the best basis in which to represent the data to make the most of these sensors. Suppose further that we want to test out a larger number of candidates for `n_basis_modes`. We can obtain a good approximation to the optimal parameter configuration for a fraction of the cost using Scikit-learn's [RandomizedSearchCV](https://scikit-learn.org/stable/modules/generated/sklearn.model_selection.RandomizedSearchCV.html) object."
   ]
  },
  {
   "cell_type": "code",
   "execution_count": 5,
   "metadata": {
    "ExecuteTime": {
     "end_time": "2020-07-17T19:45:56.859628Z",
     "start_time": "2020-07-17T19:45:45.045470Z"
    }
   },
   "outputs": [
    {
     "name": "stdout",
     "output_type": "stream",
     "text": [
      "basis:  Identity(n_basis_modes=47)\n",
      "basis__n_basis_modes:  47\n"
     ]
    }
   ],
   "source": [
    "from scipy.stats import randint\n",
    "from sklearn.model_selection import RandomizedSearchCV\n",
    "\n",
    "model = ps.SensorSelector(n_sensors=10)\n",
    "\n",
    "param_distributions = {\n",
    "    \"basis\": [ps.basis.Identity(), ps.basis.POD(), ps.basis.RandomProjection()],\n",
    "    \"basis__n_basis_modes\": randint(1, 50)\n",
    "}\n",
    "\n",
    "search = RandomizedSearchCV(model, param_distributions, n_iter=30)\n",
    "search.fit(X, quiet=True)\n",
    "for k, v in search.best_params_.items():\n",
    "    print(f\"{k}:  {v}\")"
   ]
  },
  {
   "cell_type": "markdown",
   "metadata": {},
   "source": [
    "The outcomes of the last two examples suggests that an `Identity` basis with a large number of modes would yield the best reconstruction."
   ]
  }
 ],
 "metadata": {
  "kernelspec": {
   "display_name": "Python 3",
   "language": "python",
   "name": "python3"
  },
  "language_info": {
   "codemirror_mode": {
    "name": "ipython",
    "version": 3
   },
   "file_extension": ".py",
   "mimetype": "text/x-python",
   "name": "python",
   "nbconvert_exporter": "python",
   "pygments_lexer": "ipython3",
   "version": "3.7.5"
  },
  "toc": {
   "base_numbering": 1,
   "nav_menu": {},
   "number_sections": true,
   "sideBar": true,
   "skip_h1_title": false,
   "title_cell": "Table of Contents",
   "title_sidebar": "Contents",
   "toc_cell": false,
   "toc_position": {},
   "toc_section_display": true,
   "toc_window_display": false
  },
  "varInspector": {
   "cols": {
    "lenName": 16,
    "lenType": 16,
    "lenVar": 40
   },
   "kernels_config": {
    "python": {
     "delete_cmd_postfix": "",
     "delete_cmd_prefix": "del ",
     "library": "var_list.py",
     "varRefreshCmd": "print(var_dic_list())"
    },
    "r": {
     "delete_cmd_postfix": ") ",
     "delete_cmd_prefix": "rm(",
     "library": "var_list.r",
     "varRefreshCmd": "cat(var_dic_list()) "
    }
   },
   "types_to_exclude": [
    "module",
    "function",
    "builtin_function_or_method",
    "instance",
    "_Feature"
   ],
   "window_display": false
  }
 },
 "nbformat": 4,
 "nbformat_minor": 4
}
