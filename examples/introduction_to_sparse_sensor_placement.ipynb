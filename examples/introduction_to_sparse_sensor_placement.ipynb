{
 "cells": [
  {
   "cell_type": "markdown",
   "metadata": {},
   "source": [
    "# Introduction to sparse sensor placement\n",
    "This notebook introduces the main ideas behind sparse sensor placement and shows how to use PySensors to solve tasks common in this domain."
   ]
  },
  {
   "cell_type": "markdown",
   "metadata": {},
   "source": [
    "## Sparse sensor placement\n",
    "\n",
    "* Sensors measure quantities of interest\n",
    "* Abstractly, can think of them as measurements at different points in space\n",
    "* Given that you want to measure something, where to place your sensors? How many to place?\n",
    "* The search space is combinatorial: with $p$ sensors and $n$ locations, there are $\\frac{n!}{(n-p)!p!}$ ways to place them. Placing sensors at all $n$ locations is usually not practical (and typically not necessary)\n",
    "* The underlying field/object is often structured in such a way that only a small number of sensors are needed.\n",
    "* E.g. consider the sequence of measurements of the following function: how many do you need before you \"get the picture\"?"
   ]
  },
  {
   "cell_type": "code",
   "execution_count": 1,
   "metadata": {
    "ExecuteTime": {
     "end_time": "2020-10-16T23:12:03.269562Z",
     "start_time": "2020-10-16T23:12:02.730274Z"
    }
   },
   "outputs": [],
   "source": [
    "import matplotlib.pyplot as plt\n",
    "import numpy as np\n",
    "\n",
    "x = np.linspace(0, 3, 500)\n",
    "# TODO"
   ]
  },
  {
   "cell_type": "markdown",
   "metadata": {},
   "source": [
    "Note that depending on where the sensors are placed, you sometimes gain lots of information and sometimes very little information about the underlying function when a new sensor (measurement) is added.\n",
    "\n",
    "TODO: something about bases allowing one to leverage prior information about the signal/system"
   ]
  },
  {
   "cell_type": "markdown",
   "metadata": {},
   "source": [
    "## Reconstruction"
   ]
  },
  {
   "cell_type": "markdown",
   "metadata": {},
   "source": [
    "## Classification"
   ]
  }
 ],
 "metadata": {
  "kernelspec": {
   "display_name": "Python 3",
   "language": "python",
   "name": "python3"
  },
  "language_info": {
   "codemirror_mode": {
    "name": "ipython",
    "version": 3
   },
   "file_extension": ".py",
   "mimetype": "text/x-python",
   "name": "python",
   "nbconvert_exporter": "python",
   "pygments_lexer": "ipython3",
   "version": "3.6.9"
  },
  "toc": {
   "base_numbering": 1,
   "nav_menu": {},
   "number_sections": true,
   "sideBar": true,
   "skip_h1_title": false,
   "title_cell": "Table of Contents",
   "title_sidebar": "Contents",
   "toc_cell": false,
   "toc_position": {},
   "toc_section_display": true,
   "toc_window_display": false
  }
 },
 "nbformat": 4,
 "nbformat_minor": 4
}
